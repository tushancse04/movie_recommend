{
 "cells": [
  {
   "cell_type": "markdown",
   "metadata": {},
   "source": [
    "## COMP 7118 Assignment 2\n",
    "### DUE: 9/27/2018\n",
    "\n",
    "#### You are supposed to do this assignment by yourself.  You can discuss with your classmates.  But Python code must be written by you.  Read the plagiarism policy in the syllabus for additional information\n",
    "\n",
    "\n"
   ]
  },
  {
   "cell_type": "markdown",
   "metadata": {},
   "source": [
    "### Rationale\n",
    "\n",
    "In this assignment, you are presented with a fictional scenario, in which you need to build a Bloom filter to detect dangerous viral DNAs, given limited amount of storage.\n",
    "\n",
    "Imagine you have to build a device with DNA sensors. The device is deployed in remote location without much power (other than solar) and resources (not a lot of computing power and RAM).\n",
    "\n",
    "The device constantly gets DNA inputs from the environment via its sensors.  And if it detects a known dangerous virus, it will send a signal back to the control station, alerting people of the danger."
   ]
  },
  {
   "cell_type": "markdown",
   "metadata": {},
   "source": [
    "It is best for this assignment that you write your Python code in an external file, and demonstrate how to use it in this Jupyter notebook."
   ]
  },
  {
   "cell_type": "markdown",
   "metadata": {},
   "source": [
    "## YOUR NAME: MdMaminur Islam"
   ]
  },
  {
   "cell_type": "markdown",
   "metadata": {},
   "source": [
    "**(1)** Write a Python class called BloomFilter, with a constructor that takes as input a list of n DNA strings (of the virus) and a desirable false positive error probability p.  Assume that each string has a length L.\n",
    "\n",
    "Your task is to derive the number of bits, m, and the number of hash functions, k, to the strings and achieve the given false positive probability.\n",
    "\n",
    "Show your calculation and Python code.\n",
    "\n",
    "\n"
   ]
  },
  {
   "cell_type": "markdown",
   "metadata": {},
   "source": [
    "+ probability $p = {1 \\over 2}^{{m \\over n} \\cdot ln(2)}$\n",
    " $ => m = {n \\cdot ln(p) \\over ln(2)^2}$.\n",
    "+ $k = {m \\over n} \\cdot ln(2)$.\n",
    "\n",
    "From the above two equations, we calculate the value of $m$ and $k$ given $n$ and $p$. Python code is available in constructor of BloomFilter class. To make the hash functions uniform, I set the $m$ to the next prime number of the value of $m$ from the equation.\n",
    "\n"
   ]
  },
  {
   "cell_type": "markdown",
   "metadata": {},
   "source": [
    "Note on optimal parameters for Bloom filters. Given n items and an m-bit array, the optimal value for the number of hash functions is $k = {m \\over n} \\cdot ln(2)$.  This results in a false positive probability of approximately ${1 \\over 2}^{{m \\over n} \\cdot ln(2)}$.\n",
    "\n",
    "You can use the bitarray module that comes with Anaconda.  See below:\n",
    "\n",
    "\n"
   ]
  },
  {
   "cell_type": "code",
   "execution_count": 5,
   "metadata": {},
   "outputs": [
    {
     "name": "stdout",
     "output_type": "stream",
     "text": [
      "bitarray('0000000000')\n",
      "bitarray('1001000000')\n",
      "True False\n"
     ]
    }
   ],
   "source": [
    "from bitarray import bitarray\n",
    "a = bitarray('0'*10)\n",
    "print(a)\n",
    "a[0] = True\n",
    "a[3] = True\n",
    "print(a)\n",
    "print(a[3], a[4])"
   ]
  },
  {
   "cell_type": "markdown",
   "metadata": {},
   "source": [
    "**(2)** Write a function that generates a random DNA of length L. Demonstrate how to use this method."
   ]
  },
  {
   "cell_type": "markdown",
   "metadata": {},
   "source": [
    "I created a DNA class where method gen_dna(L) generates random dna of length L."
   ]
  },
  {
   "cell_type": "code",
   "execution_count": 1,
   "metadata": {},
   "outputs": [
    {
     "name": "stdout",
     "output_type": "stream",
     "text": [
      "False positive prob :  0.0\n",
      "GCACGTTATACTTATGTCGCACCCAGTTGAAATTCGCCGCTTAAGCACATGGTCCTGGCAGATAAGCAGGCAACGTTTCTACCCACTCTGCAATGCCCTA\n"
     ]
    }
   ],
   "source": [
    "from dna import DNA\n",
    "dna = DNA().gen_dna(100)\n",
    "print(dna)"
   ]
  },
  {
   "cell_type": "markdown",
   "metadata": {},
   "source": [
    "**(3)** Write a method that generates k random hash functions for DNA strings of length L.  Before you do that, you must describe in English clearly how to construct each hash function.  The idea is to map a string of characters A, C, G, and T (think of them as 0, 1, 2, and 3) to a random number between 1 and m.\n",
    "\n",
    "This problem requires some reasoning, not just coding."
   ]
  },
  {
   "cell_type": "markdown",
   "metadata": {},
   "source": [
    "First, I converted the dna string to an integer $i$. Initially, the integer $i = 0$. For each character $c$ from the left of the dna string, $i = i*4 + j$ where $j = 0,1,2,3$ for $c = A,C,G,T$ respectively. If $i$ is larger than $m$, then $i = i \\bmod m$ and for each character, $i$ is multiplied by two random numbers which is fixed for a particular hash function and this is done to make the hash value almost uniform."
   ]
  },
  {
   "cell_type": "code",
   "execution_count": 2,
   "metadata": {},
   "outputs": [],
   "source": [
    "from bloom_filter import BloomFilter\n",
    "from dna import DNA\n",
    "L = 100\n",
    "train_n = 10000\n",
    "prob = .001\n",
    "dna = DNA()\n",
    "train_dnalist = dna.dnalist(L,train_n)\n",
    "bf = BloomFilter(train_dnalist,prob)\n",
    "bf.gen_random_hash_functions()"
   ]
  },
  {
   "cell_type": "markdown",
   "metadata": {},
   "source": [
    "**(4)** Write a method that inserts a DNA string of length L into the Bloom filter.  Demonstrate how to use this method with actual Python code."
   ]
  },
  {
   "cell_type": "code",
   "execution_count": 3,
   "metadata": {},
   "outputs": [],
   "source": [
    "dna = DNA().gen_dna(100)\n",
    "bf.insert_dna(dna)"
   ]
  },
  {
   "cell_type": "markdown",
   "metadata": {},
   "source": [
    "**(5)** Write a method that checks if an unknown DNA string of length L is a viral DNA.  Demonstrate how to use this method with actual Python code."
   ]
  },
  {
   "cell_type": "code",
   "execution_count": 4,
   "metadata": {},
   "outputs": [
    {
     "data": {
      "text/plain": [
       "True"
      ]
     },
     "execution_count": 4,
     "metadata": {},
     "output_type": "execute_result"
    }
   ],
   "source": [
    "bf.is_viral(dna)"
   ]
  },
  {
   "cell_type": "markdown",
   "metadata": {},
   "source": [
    "**(6)** Write an evaluation function (not part of the BloomFilter class) that generates a  viral genome containing 10,000 random DNA strings of length 100.\n",
    "\n",
    "Generate N random DNA strings of length 100, and test to see if your bloom filter work.  In particular, report the false positive probability (which is the number of false positives divided by N).\n",
    "\n",
    "To check if a query is a false positive, you should store separate those 1 millions DNA strings (viral genome) as ground truth.  The Bloom Filter won't be able to tell you for sure if a \"Yes\" query is in fact a yes.\n",
    "\n",
    "Demonstrate how to use this function.\n",
    "\n"
   ]
  },
  {
   "cell_type": "code",
   "execution_count": 5,
   "metadata": {},
   "outputs": [
    {
     "name": "stdout",
     "output_type": "stream",
     "text": [
      "False positive prob :  0.0\n"
     ]
    }
   ],
   "source": [
    "DNA().evaluate_bloom_filter()"
   ]
  },
  {
   "cell_type": "code",
   "execution_count": null,
   "metadata": {},
   "outputs": [],
   "source": []
  }
 ],
 "metadata": {
  "kernelspec": {
   "display_name": "Python 3",
   "language": "python",
   "name": "python3"
  },
  "language_info": {
   "codemirror_mode": {
    "name": "ipython",
    "version": 3
   },
   "file_extension": ".py",
   "mimetype": "text/x-python",
   "name": "python",
   "nbconvert_exporter": "python",
   "pygments_lexer": "ipython3",
   "version": "3.6.5"
  }
 },
 "nbformat": 4,
 "nbformat_minor": 2
}
