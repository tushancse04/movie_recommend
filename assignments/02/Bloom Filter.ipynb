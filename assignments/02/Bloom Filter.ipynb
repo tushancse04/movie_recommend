{
 "cells": [
  {
   "cell_type": "markdown",
   "metadata": {},
   "source": [
    "Chapter 4: Mining data streams\n",
    "\n",
    "A data stream is abstractly an infitite sequence of data points: x1, x2, ....\n",
    "\n",
    "We have lots of data.\n",
    "\n",
    "Determine if an item $a$ is in S, when we do not have much space to store all items.  Additionally, we want to be able to answer this membership question very quickly.\n",
    "\n",
    "Solution: Bloom filter.  What is a Bloom filter?\n",
    "\n",
    "- It is very fast.\n",
    "- It is probabilistic.\n",
    "- It can make false positive mistakes.  But it makes no false negative mistakes.\n",
    "\n",
    "What is a False Positive?\n",
    "\n",
    "Let's say you are making a prediction.  A Positive is essentially a \"Yes\" answer.  A Negative is a \"No\" answer.  A True Positive is a Yes answer that is correct.  A False Positive is a Yes answer that is incorrect.\n",
    "\n",
    "Example: \n",
    "\n",
    "- \"have we seen this ip address before?\"  If the answer is Yes for x, but it is wrong. Then we have a false positive.\n",
    "\n",
    "- \"is this a spam email?\"  If the answer is Yes for x, but it is wrong, then we have a false positive.\n"
   ]
  },
  {
   "cell_type": "markdown",
   "metadata": {},
   "source": [
    "What is a Bloom filter?\n",
    "\n",
    "- A set S of m items that we want to store. These can come from a stream of data.\n",
    "- An array of n bits, initially all 0's.\n",
    "- k random hash functions: $h_1, h_2, ..., h_k$\n",
    "- Insertion of $x$ into the Bloom filter: given an item $x \\in S$, $h(x)$ maps $x$ to one of the n bits.  Suppose $h(x) = i$.  Then we set bit $i$ to 1.\n"
   ]
  },
  {
   "cell_type": "code",
   "execution_count": 3,
   "metadata": {},
   "outputs": [
    {
     "name": "stdout",
     "output_type": "stream",
     "text": [
      "[0, 0, 0, 0, 0, 0, 0, 0, 0, 0, 0, 0, 0, 1, 0, 0, 0, 0, 0, 0]\n",
      "8 0\n"
     ]
    }
   ],
   "source": [
    "n = 20\n",
    "filter = [0]*n\n",
    "\n",
    "def hash(x):\n",
    "    return (5*x + 3) % n\n",
    "\n",
    "i = hash(150)\n",
    "filter[i] = 1\n",
    "print(filter)\n",
    "\n",
    "y = 325\n",
    "j = hash(y)\n",
    "print(j, filter[j])"
   ]
  },
  {
   "cell_type": "markdown",
   "metadata": {},
   "source": [
    "Construction of the Bloom filter: for each item $x \\in S$, set $h_i(x)$ to 1 for $1 \\le i \\le k$.\n",
    "\n",
    "Querying: to determine if an item y is in S, we look at $h_1(y), h_2(y), \\cdots, h_k(y)$, if all bits are 1's, return Yes."
   ]
  },
  {
   "cell_type": "markdown",
   "metadata": {},
   "source": [
    "How do we find hash functions?\n",
    "\n",
    "\n"
   ]
  },
  {
   "cell_type": "code",
   "execution_count": 4,
   "metadata": {},
   "outputs": [
    {
     "name": "stdout",
     "output_type": "stream",
     "text": [
      "ab 62 38\n",
      "ab 86 10\n",
      "0 38 10\n",
      "ab 62 38\n",
      "ab 86 10\n",
      "1 0 96\n",
      "ab 62 38\n",
      "ab 86 10\n",
      "2 62 82\n",
      "ab 62 38\n",
      "ab 86 10\n",
      "3 24 68\n",
      "ab 62 38\n",
      "ab 86 10\n",
      "4 86 54\n"
     ]
    }
   ],
   "source": [
    "import random\n",
    "\n",
    "n = 100\n",
    "\n",
    "def random_hash_function(n):\n",
    "    a = random.randint(1, n)\n",
    "    b = random.randint(1, n)\n",
    "    def f(x):\n",
    "        print('ab',a,b)\n",
    "        return (a*x + b)%n\n",
    "    return f\n",
    "\n",
    "h1 = random_hash_function(n)\n",
    "h2 = random_hash_function(n)\n",
    "\n",
    "for i in range(0,5):\n",
    "    print(i, h1(i),h2(i))\n",
    "\n"
   ]
  },
  {
   "cell_type": "markdown",
   "metadata": {},
   "source": [
    "What is the probability of false positives?\n",
    "\n",
    "+ $P(h_1(x) == 1) = {1 \\over n}$\n",
    "\n",
    "+ When x is inserted with h1, what is the probability that bit i is 0?\n",
    "\n",
    "$P(h_1(x) == 0) = (1 - {1 \\over n})$\n",
    "\n",
    "\n",
    "+ When x is inserted with k hash functions, what is the probability that bit i is 0?\n",
    "\n",
    "$P(h_i(x) == 0, 1 \\le i \\le k) = (1 - {1 \\over n})^k$\n",
    "\n",
    "\n",
    "\n",
    "+ When all m items are inserted with k hash functions, what is the probability that bit i is 0?\n",
    "\n",
    "$P(h_i(x_j) == 0, 1 \\le i \\le k, 1 \\le j \\le m) = (1 - {1 \\over n})^{km}$\n",
    "\n",
    "\n",
    "+ When all m items are inserted with k hash functions, what is the probability that bit i is 1?\n",
    "\n",
    "$1 - (1 - {1 \\over n})^{km}$\n",
    "\n",
    "\n",
    "\n",
    "+ Given m items have been inserted, what is the probability that an item $y \\notin S$, $h_1(y)$ equal to 1?\n",
    "\n",
    "$1 - (1 - {1 \\over n})^{km}$\n",
    "\n",
    "\n",
    "+ What is the probability that for $y \\notin S$, $h_1(y), h_2(y), \\cdots, h_k(y)$ equal to 1?\n",
    "\n",
    "$(1 - (1 - {1 \\over n})^{km})^k$\n",
    "\n",
    "\n",
    "Approximation, $1-x \\approx e^{-x}$, for small values of x.\n",
    "\n",
    "$(1 - (1 - {1 \\over n})^{km})^k \\approx (1 - e^{-km \\over n})^k$\n",
    "\n",
    "\n",
    "\n",
    "\n"
   ]
  },
  {
   "cell_type": "code",
   "execution_count": 3,
   "metadata": {},
   "outputs": [
    {
     "name": "stdout",
     "output_type": "stream",
     "text": [
      "10000 1000 5 0.009432746679838469\n"
     ]
    }
   ],
   "source": [
    "\n",
    "def false_positive_prob(n,m,k):\n",
    "    a = (1-1/n)**(k*m)\n",
    "    b = (1-a)**k\n",
    "    return b\n",
    "\n",
    "\n",
    "n, m, k = 10000, 1000, 5\n",
    "print(n, m, k, false_positive_prob(n,m,k))\n",
    "\n"
   ]
  },
  {
   "cell_type": "code",
   "execution_count": null,
   "metadata": {},
   "outputs": [],
   "source": []
  }
 ],
 "metadata": {
  "kernelspec": {
   "display_name": "Python 3",
   "language": "python",
   "name": "python3"
  },
  "language_info": {
   "codemirror_mode": {
    "name": "ipython",
    "version": 3
   },
   "file_extension": ".py",
   "mimetype": "text/x-python",
   "name": "python",
   "nbconvert_exporter": "python",
   "pygments_lexer": "ipython3",
   "version": "3.6.5"
  }
 },
 "nbformat": 4,
 "nbformat_minor": 2
}
