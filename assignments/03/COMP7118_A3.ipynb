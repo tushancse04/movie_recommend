{
 "cells": [
  {
   "cell_type": "markdown",
   "metadata": {},
   "source": [
    "## COMP 7118 Assignment 3\n",
    "### DUE: 10/10/2018\n",
    "\n",
    "#### You are supposed to do this assignment by yourself.  You can discuss with your classmates.  But Python code must be written by you.  Read the plagiarism policy in the syllabus for additional information\n",
    "\n",
    "YOUR NAME: MdMaminur Islam\n",
    "\n",
    "\n",
    "In the following problems, use the retail dataset to test your solution.  You can use code we created in class.  However, you will have to create new code.  When you do, explain (for each problem) what you created and describe the idea of how things work (in English)."
   ]
  },
  {
   "cell_type": "markdown",
   "metadata": {},
   "source": [
    "1.  Implement the A-Priori Algorithm for finding frequent item sets containing 3 items.\n",
    "I created a class with name Apriori where I created methos as 'fis3' to get the frequent item sets containing 3 items."
   ]
  },
  {
   "cell_type": "code",
   "execution_count": 3,
   "metadata": {},
   "outputs": [
    {
     "name": "stdout",
     "output_type": "stream",
     "text": [
      "There are 6  in fis1 sets.\n",
      "There are 7  in fis2 sets.\n",
      "There are 3  in fis3 sets.\n",
      "(39, 41, 48) 14732\n",
      "(38, 39, 48) 12204\n",
      "(32, 39, 48) 10804\n"
     ]
    }
   ],
   "source": [
    "from frequent_items import APriori\n",
    "DATA_FILE = 'retail.txt'\n",
    "p = APriori(DATA_FILE,.05)"
   ]
  },
  {
   "cell_type": "markdown",
   "metadata": {},
   "source": [
    "\n",
    "2.  Implement the PCY Algorithm for finding frequent item sets containing 3 items.  Your algorithm should use modified Bloom filters (hash table) to pre-filter frequent item sets containing 2 items, and containing 3 items.\n",
    "I created another class in count_filter having name 'CountTriple' to hash the frequent item sets containing 3 items. The class is similarly as CountPair class. I added another method('fis3') in 'PCY' class to find frequent items having 3 items."
   ]
  },
  {
   "cell_type": "code",
   "execution_count": 1,
   "metadata": {},
   "outputs": [
    {
     "name": "stdout",
     "output_type": "stream",
     "text": [
      "There are 6  in fis1 sets for A-Priori\n",
      "There are 7  in fis2 sets for A-Priori \n",
      "There are 3  in fis3 sets for A-Priori\n",
      "We only look at fewer than 3 items for PCY.\n"
     ]
    }
   ],
   "source": [
    "from pcy import PCY\n",
    "DATA_FILE = 'retail.txt'\n",
    "p = PCY()\n",
    "p.a_priori(DATA_FILE,.05)\n"
   ]
  },
  {
   "cell_type": "markdown",
   "metadata": {},
   "source": []
  }
 ],
 "metadata": {
  "kernelspec": {
   "display_name": "Python 3",
   "language": "python",
   "name": "python3"
  },
  "language_info": {
   "codemirror_mode": {
    "name": "ipython",
    "version": 3
   },
   "file_extension": ".py",
   "mimetype": "text/x-python",
   "name": "python",
   "nbconvert_exporter": "python",
   "pygments_lexer": "ipython3",
   "version": "3.6.5"
  }
 },
 "nbformat": 4,
 "nbformat_minor": 2
}
