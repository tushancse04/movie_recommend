{
 "cells": [
  {
   "cell_type": "markdown",
   "metadata": {},
   "source": [
    "## Estimating Variations in Frequencies"
   ]
  },
  {
   "cell_type": "markdown",
   "metadata": {},
   "source": [
    "\n",
    "We have 100 data points with 11 unique items.  \n",
    "    $x_1, x_2, \\cdots, x_{100}$\n",
    "\n",
    "Two scenarios.\n",
    "\n",
    "(A) The frequencies of these items are 10, 9, 9, 9, 9, 9, 9, 9, 9, 9, 9.\n",
    "\n",
    "\n",
    "(B) The frequencies of these items are 90, 1, 1, 1, 1, 1, 1, 1, 1, 1, 1.\n",
    "\n",
    "\n",
    "These are two very different scenarios.  We want to quantify the differences."
   ]
  },
  {
   "cell_type": "markdown",
   "metadata": {},
   "source": [
    "Variation of frequencies is defined as:  $var = f_1^2 + f_2^2 + \\cdots + f_n^2$\n",
    "\n",
    "Goal: estimate $var$\n"
   ]
  },
  {
   "cell_type": "markdown",
   "metadata": {},
   "source": [
    "```\n",
    "1  2  3  4  5  6  7  8  9 10 11 12 13 14 15\n",
    "a  b  c  b  d  a  c  d  a  b  d  c  a  a  b\n",
    "```\n",
    "\n",
    "Let's suppose that we pick 3 random positions:  3, 8, 13.\n",
    "\n",
    "- pos 3 -->  c\n",
    "- pos 8 -->  d\n",
    "- pos 13 --> a\n",
    "\n",
    "\n"
   ]
  },
  {
   "cell_type": "markdown",
   "metadata": {},
   "source": [
    "X.element and X.count\n",
    "\n",
    "- At position 3, X1.element = c and X1.count = 1\n",
    "- At position 7, X1.count = 2\n",
    "- At position 8, X2.element = d and X2.count = 1\n",
    "- At position 11, X2.count = 2\n",
    "- At position 12, X1.count = 3\n",
    "- At position 13, X3.element = a, X3.count = 1\n",
    "- At postiion 14, X3.count = 2\n",
    "\n",
    "\n",
    "X1 (c, 3)\n",
    "\n",
    "X2 (d, 2)\n",
    "\n",
    "X3 (a, 2)\n",
    "\n",
    "\n"
   ]
  },
  {
   "cell_type": "markdown",
   "metadata": {},
   "source": [
    "Estimated $var$ of the streaming data is: **n*(2*X.count - 1)**\n",
    "\n",
    "At position 3, estimated var is 15*(2*3 - 1) = 15*5 = 75.\n",
    "\n",
    "At position 8, estimated var is 15*(2*2 - 1) = 15*3 = 45.\n",
    "\n",
    "At position 13, estimated var is 15*(2*2 - 1) = 45.\n",
    "\n",
    "\n"
   ]
  },
  {
   "cell_type": "code",
   "execution_count": 1,
   "metadata": {},
   "outputs": [
    {
     "data": {
      "text/plain": [
       "55.0"
      ]
     },
     "execution_count": 1,
     "metadata": {},
     "output_type": "execute_result"
    }
   ],
   "source": [
    "(75+45+45)/3"
   ]
  },
  {
   "cell_type": "markdown",
   "metadata": {},
   "source": [
    "$f_a = 5,  f_b = 4, f_c = 3, f_d = 3$.\n",
    "\n"
   ]
  },
  {
   "cell_type": "code",
   "execution_count": 2,
   "metadata": {},
   "outputs": [
    {
     "data": {
      "text/plain": [
       "59"
      ]
     },
     "execution_count": 2,
     "metadata": {},
     "output_type": "execute_result"
    }
   ],
   "source": [
    "(25 + 16 + 9 + 9)"
   ]
  },
  {
   "cell_type": "markdown",
   "metadata": {},
   "source": [
    "What is the expected value of **n *(2*X.count - 1)**?"
   ]
  },
  {
   "cell_type": "markdown",
   "metadata": {},
   "source": [
    "Prob that position i is selected is ${1 \\over n}$.\n",
    "\n",
    "Once i is selected, the \"value\" is $n*(2*c(i) - 1)$."
   ]
  },
  {
   "cell_type": "markdown",
   "metadata": {},
   "source": [
    "Expected value = $\\sum_i {1 \\over n} *   n∗(2∗c(i)−1)$\n",
    "\n",
    "Expected value = $\\sum_i (2∗c(i)−1)$"
   ]
  },
  {
   "cell_type": "markdown",
   "metadata": {},
   "source": [
    "\n",
    "```\n",
    "1  2  3  4  5  6  7  8  9 10 11 12 13 14 15\n",
    "a  b  c  b  d  a  c  d  a  b  d  c  a  a  b\n",
    "\n",
    "5              4        3           2  1\n",
    "   4     3                 2              1\n",
    "      3           2              1\n",
    "            3         2       1\n",
    "```\n",
    "\n",
    "Expected value = $\\sum_{i=1}^n (2∗c(i)−1)$ = $f_a^2 + f_b^2 + f_c^2 + f_d^2$\n",
    "\n",
    "\n",
    "\n"
   ]
  },
  {
   "cell_type": "markdown",
   "metadata": {},
   "source": [
    "If we look at the \"a\" group:\n",
    "\n",
    "$(2*5 - 1) + (2*4 - 1) + (2*3 - 1) + (2*2 - 1) + (2*1 - 1)$\n",
    "\n"
   ]
  },
  {
   "cell_type": "markdown",
   "metadata": {},
   "source": [
    "$\\sum_{j=1}^{m_a} (2*j-1)$"
   ]
  },
  {
   "cell_type": "markdown",
   "metadata": {},
   "source": [
    "$2(\\sum_{j=1}^{m_a} j)  - \\sum_{j=1}^{m_a} 1$"
   ]
  },
  {
   "cell_type": "code",
   "execution_count": null,
   "metadata": {},
   "outputs": [],
   "source": []
  }
 ],
 "metadata": {
  "kernelspec": {
   "display_name": "Python [conda env:anaconda]",
   "language": "python",
   "name": "conda-env-anaconda-py"
  },
  "language_info": {
   "codemirror_mode": {
    "name": "ipython",
    "version": 3
   },
   "file_extension": ".py",
   "mimetype": "text/x-python",
   "name": "python",
   "nbconvert_exporter": "python",
   "pygments_lexer": "ipython3",
   "version": "3.6.4"
  }
 },
 "nbformat": 4,
 "nbformat_minor": 2
}
