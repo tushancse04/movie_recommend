{
 "cells": [
  {
   "cell_type": "markdown",
   "metadata": {},
   "source": [
    "## Frequent Item Sets"
   ]
  },
  {
   "cell_type": "markdown",
   "metadata": {},
   "source": [
    "A number of baskets.  Each basket has a number of items.\n"
   ]
  },
  {
   "cell_type": "code",
   "execution_count": 7,
   "metadata": {},
   "outputs": [
    {
     "name": "stdout",
     "output_type": "stream",
     "text": [
      "{9, 4}\n",
      "{9, 5, 6, 7}\n",
      "{0, 1, 3, 5, 7, 9}\n",
      "{0, 1, 4, 5, 6, 7, 8, 9}\n",
      "{0, 1, 2, 3, 4, 5, 6, 8, 9}\n",
      "{9, 6}\n",
      "{0, 1, 2, 4, 5, 9}\n",
      "{1, 2, 4, 5, 6, 7, 9}\n",
      "{3, 4, 5, 7}\n",
      "{0, 1, 2, 3, 4, 5, 6, 7, 8, 9}\n"
     ]
    }
   ],
   "source": [
    "import baskets\n",
    "baskets.init(n=10,b=10)\n",
    "b = baskets.random_baskets(2,10)\n",
    "for x in b:\n",
    "    print(x)"
   ]
  },
  {
   "cell_type": "markdown",
   "metadata": {},
   "source": [
    "- The \"Support\" of a set x is the number of baskets x is in.\n",
    "\n",
    "- Support({3}) = 4\n",
    "- Support({3,5}) = 4\n",
    "\n",
    "- {0} -> 1\n",
    "- {1,2} -> 4\n",
    "\n",
    "- The \"Confidence\" of a rule \"J -> i\" is defined as \n",
    "\n",
    "$Confidence(J \\rightarrow i) = {Support(J \\cup i) \\over Support(J)}$\n",
    "\n",
    "\n",
    "\n",
    "\n"
   ]
  },
  {
   "cell_type": "markdown",
   "metadata": {},
   "source": [
    "Confidence( {1,2} -> 4 ) = Support( {1,2,4} ) / Support( {1,2} ) = 4 / 4 = 1\n",
    "\n",
    "Confidence( {0,1} -> 3 ) = Support( {0,1,3} ) / Support( {0,1} ) = 3 / 5\n",
    "\n",
    "\n"
   ]
  },
  {
   "cell_type": "markdown",
   "metadata": {},
   "source": [
    "Formulate the problem:\n",
    "\n",
    "**Given a set of b baskets out of n items, find rules with confidence at least t.**"
   ]
  },
  {
   "cell_type": "markdown",
   "metadata": {},
   "source": [
    "Generate all subsets J of n items.  Compute Confidence(J -> i).  Store it if the confidence is above the threshold t."
   ]
  },
  {
   "cell_type": "markdown",
   "metadata": {},
   "source": [
    "Observations:\n",
    "- We can look for frequent-item sets, i.e. $J \\cup i$'s that occur frequently (have high support).\n",
    "- The frequent-item sets are small.\n",
    "- If I is a frequent-item set, then a subset of I is also a freqent-item set."
   ]
  },
  {
   "cell_type": "code",
   "execution_count": 16,
   "metadata": {},
   "outputs": [
    {
     "name": "stdout",
     "output_type": "stream",
     "text": [
      "{8: 0.53, 10: 0.44, 6: 0.45, 0: 0.48, 4: 0.5, 9: 0.41, 11: 0.44, 13: 0.51, 1: 0.52, 2: 0.48, 14: 0.51, 12: 0.5, 3: 0.56, 5: 0.48, 7: 0.5}\n",
      "8 0.53\n",
      "10 0.44\n",
      "6 0.45\n",
      "0 0.48\n",
      "4 0.5\n",
      "9 0.41\n",
      "11 0.44\n",
      "13 0.51\n",
      "1 0.52\n",
      "2 0.48\n",
      "14 0.51\n",
      "12 0.5\n",
      "3 0.56\n",
      "5 0.48\n",
      "7 0.5\n"
     ]
    }
   ],
   "source": [
    "baskets.init(n=15,b=100)\n",
    "b = baskets.random_baskets(1,15)\n",
    "\n",
    "# L is a set of baskets\n",
    "# Output: frequent-item sets with 1 element\n",
    "def fis1(L, t):\n",
    "    fis = dict()\n",
    "    for basket in L:\n",
    "        for item in basket:\n",
    "            if item not in fis:\n",
    "                fis[item] = 0\n",
    "            fis[item] += 1\n",
    "    for k,v in fis.items():\n",
    "        fis[k] = v / len(L)\n",
    "    return fis\n",
    "\n",
    "A = fis1(b, 0)\n",
    "for k, v in A.items():\n",
    "    print(k,v)\n"
   ]
  },
  {
   "cell_type": "markdown",
   "metadata": {},
   "source": [
    "- Get frequent-item sets in A with threshold larger than 0.9.\n",
    "{3,5} {3}, {5}\n",
    "\n",
    "{3} -> {5}\n",
    "Confidence({5} -> {3}) = Support({3,5}) / Support({3)}"
   ]
  }
 ],
 "metadata": {
  "kernelspec": {
   "display_name": "Python 3",
   "language": "python",
   "name": "python3"
  },
  "language_info": {
   "codemirror_mode": {
    "name": "ipython",
    "version": 3
   },
   "file_extension": ".py",
   "mimetype": "text/x-python",
   "name": "python",
   "nbconvert_exporter": "python",
   "pygments_lexer": "ipython3",
   "version": "3.6.5"
  }
 },
 "nbformat": 4,
 "nbformat_minor": 2
}
