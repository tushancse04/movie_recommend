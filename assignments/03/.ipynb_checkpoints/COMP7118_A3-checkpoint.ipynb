{
 "cells": [
  {
   "cell_type": "markdown",
   "metadata": {},
   "source": [
    "## COMP 7118 Assignment 3\n",
    "### DUE: 10/10/2018\n",
    "\n",
    "#### You are supposed to do this assignment by yourself.  You can discuss with your classmates.  But Python code must be written by you.  Read the plagiarism policy in the syllabus for additional information\n",
    "\n",
    "YOUR NAME: \n",
    "\n",
    "\n",
    "In the following problems, use the retail dataset to test your solution.  You can use code we created in class.  However, you will have to create new code.  When you do, explain (for each problem) what you created and describe the idea of how things work (in English)."
   ]
  },
  {
   "cell_type": "markdown",
   "metadata": {},
   "source": [
    "1.  Implement the A-Priori Algorithm for finding frequent item sets containing 3 items.\n"
   ]
  },
  {
   "cell_type": "markdown",
   "metadata": {},
   "source": [
    "\n",
    "2.  Implement the PCY Algorithm for finding frequent item sets containing 3 items.  Your algorithm should use modified Bloom filters (hash table) to pre-filter frequent item sets containing 2 items, and containing 3 items."
   ]
  },
  {
   "cell_type": "markdown",
   "metadata": {},
   "source": []
  }
 ],
 "metadata": {
  "kernelspec": {
   "display_name": "Python 3",
   "language": "python",
   "name": "python3"
  },
  "language_info": {
   "codemirror_mode": {
    "name": "ipython",
    "version": 3
   },
   "file_extension": ".py",
   "mimetype": "text/x-python",
   "name": "python",
   "nbconvert_exporter": "python",
   "pygments_lexer": "ipython3",
   "version": "3.6.5"
  }
 },
 "nbformat": 4,
 "nbformat_minor": 2
}
