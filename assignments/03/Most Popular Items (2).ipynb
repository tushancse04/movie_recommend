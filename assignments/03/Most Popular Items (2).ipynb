{
 "cells": [
  {
   "cell_type": "markdown",
   "metadata": {},
   "source": [
    "## Tracking Recent Popular Items\n",
    "\n"
   ]
  },
  {
   "cell_type": "markdown",
   "metadata": {},
   "source": [
    "Given a stream of items x1, x2, ...., what are the most popular items?\n",
    "\n",
    "Without constraints, we simply count the frequency of each item; sort them; and keep track of the ones with highest frequencies.\n",
    "\n",
    "What if we can't store all frequencies?\n",
    "\n",
    "- Count frequencies of a small set of random items of the stream.\n",
    "    - we'll have to keep track of all frequencies.\n",
    "    - we'll have to keep track of top-10 highest frequencies.\n",
    " \n",
    "- Another idea is to use an exponentially deacying window.\n",
    "\n",
    "- At time t, the score of each item $x$ is defined as:\n",
    "\n",
    "$score(x) = \\sum_{i=0}^t a_i(1-c)^{t-i}$\n",
    "\n",
    "Given an item $x$, $a_i = 1$ if the i-th item is $x$.  Else, $a_i = 0$."
   ]
  },
  {
   "cell_type": "markdown",
   "metadata": {},
   "source": [
    "### If $c=0$, then $score(x)$ is simply the frequency of $x$.\n",
    "\n"
   ]
  },
  {
   "cell_type": "markdown",
   "metadata": {},
   "source": [
    "If $c$ is a small positive number (e.g. ${1 \\over 10^6}$), then what does $score(x)$ mean?"
   ]
  },
  {
   "cell_type": "markdown",
   "metadata": {},
   "source": [
    "At time 0, score(x) = $a_0$"
   ]
  },
  {
   "cell_type": "markdown",
   "metadata": {},
   "source": [
    "At time 1, $score(x) = a_0(1-c) + a_1$ "
   ]
  },
  {
   "cell_type": "markdown",
   "metadata": {},
   "source": [
    "At time 2, $score(x) = a_0(1-c)^2 + a_1(1-c) + a_2$ "
   ]
  },
  {
   "cell_type": "markdown",
   "metadata": {},
   "source": [
    "At time 3, $score(x) = a_0(1-c)^3 + a_1(1-c)^2 + a_2(1-c) + a_3$ "
   ]
  },
  {
   "cell_type": "markdown",
   "metadata": {},
   "source": [
    "At time 4, $score(x) = a_0(1-c)^4 + a_1(1-c)^3 + a_2(1-c)^2 + a_3(1-c) + a_4$ "
   ]
  },
  {
   "cell_type": "markdown",
   "metadata": {},
   "source": [
    "Say at time 5, the item is b.  How do we compute score(b) at time 5?\n",
    "\n",
    "\n",
    "At time 4, $score(b) = a_0(1-c)^4 + a_1(1-c)^3 + a_2(1-c)^2 + a_3(1-c) + a_4$ \n",
    "\n",
    "If we had to compute \"from the beginning\", score(b) is\n",
    "$a_0(1-c)^5 + a_1(1-c)^4 + a_2(1-c)^3 + a_3(1-c)^2 + a_4(1-c) + a_5$ "
   ]
  },
  {
   "cell_type": "markdown",
   "metadata": {},
   "source": [
    "$score(b) = score(b) \\cdot (1-c) + 1$"
   ]
  },
  {
   "cell_type": "markdown",
   "metadata": {},
   "source": [
    "Example:\n",
    "\n",
    "0  1  2  3  4  5  6  7\n",
    "a  b  a  a  c  c  b  a\n",
    "\n",
    "time 0\n",
    "- score(a) = 1\n",
    "- score(b) = 0\n",
    "- score(c) = 0\n",
    "\n",
    "time 1\n",
    "- score(a) = 1(1-c) + 0\n",
    "- score(b) = 0 + 1\n",
    "- score(c) = 0 + 0\n",
    "\n",
    "time 2\n",
    "- score(a) = 1(1-c)^2 + 0 + 1\n",
    "- score(b) = 0 + 1(1-c) + 0\n",
    "- score(c) = 0 + 0 + 0\n",
    "\n",
    "time 3\n",
    "- score(a) = 1(1-c)^3 + 0 + 1(1-c) + 1\n",
    "    - score(a) = score(a) * (1-c) + 1 = (1(1-c)^2 + 0 + 1) * (1-c) + 1\n",
    "- score(b) = 0 + 1(1-c)^2 + 0 + 0 = score(b) * (1-c) + 0\n",
    "\n",
    "\n",
    "time 4\n",
    "- score(a) = 1(1-c)^4 + 0        + 1(1-c)^2 + 1(1-c) + 0\n",
    "- score(b) = 0        + 1(1-c)^3 + 0        + 0      + 0\n",
    "- score(c) = 0        + 0        + 0        + 0      + 1\n",
    "\n",
    "Update scores:\n",
    "\n",
    "For each item x:\n",
    "    - If x_t == x, score(x) = score(x)(1-c) + 1\n",
    "    - Else, score(x) = score(x)(1-c)\n",
    "\n",
    "\n",
    "\n"
   ]
  },
  {
   "cell_type": "markdown",
   "metadata": {},
   "source": [
    "If c = 0, scores are just frequencies. Highest scores represent most frequent items.\n",
    "\n",
    "If c is very small, 1-c is very close to 1, scores approximate frequenceis, favoring recent items.  High scores represent recent and popular items."
   ]
  },
  {
   "cell_type": "markdown",
   "metadata": {},
   "source": [
    "For each item x that we are keeping track of:\n",
    "    - If x_t == x:\n",
    "        - if score(x) doesn't exist, score(x) = 1\n",
    "        - else: score(x) = score(x)(1-c) + 1\n",
    "    - Else\n",
    "        - if score(x) doesn't exist, do nothing\n",
    "        - else: score(x) = score(x)(1-c)\n",
    "    - If score(x) < 0.5:\n",
    "        - remove score(x). Stop keeping track of x.\n"
   ]
  },
  {
   "cell_type": "markdown",
   "metadata": {},
   "source": [
    "The number of items we keep track of is less than ${2 \\over c}$.\n",
    "\n",
    "Because of the exponential decay, the sum of all scores converges to a constant, namely ${1 \\over c}$.\n",
    "    - This is because the sum of all scores = 1+(1-c)+(1-c)^2+ ...  This converges to 1/(1-(1-c))"
   ]
  },
  {
   "cell_type": "markdown",
   "metadata": {},
   "source": [
    "We keep track of high scores only; namely items with scores > 0.5."
   ]
  },
  {
   "cell_type": "markdown",
   "metadata": {},
   "source": [
    "This means we will keep track of the top-${2 \\over c}$ recent items."
   ]
  },
  {
   "cell_type": "markdown",
   "metadata": {},
   "source": [
    "If c = 1/10, then at any time, we only keep track of no more than 20 different items.\n",
    "\n",
    "1-c = 0.9. This is the exponential decay factor."
   ]
  },
  {
   "cell_type": "code",
   "execution_count": null,
   "metadata": {},
   "outputs": [],
   "source": []
  }
 ],
 "metadata": {
  "kernelspec": {
   "display_name": "Python [conda env:anaconda]",
   "language": "python",
   "name": "conda-env-anaconda-py"
  },
  "language_info": {
   "codemirror_mode": {
    "name": "ipython",
    "version": 3
   },
   "file_extension": ".py",
   "mimetype": "text/x-python",
   "name": "python",
   "nbconvert_exporter": "python",
   "pygments_lexer": "ipython3",
   "version": "3.6.4"
  }
 },
 "nbformat": 4,
 "nbformat_minor": 2
}
