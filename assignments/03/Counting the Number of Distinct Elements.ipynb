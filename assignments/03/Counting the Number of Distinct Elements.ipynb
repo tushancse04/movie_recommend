{
 "cells": [
  {
   "cell_type": "markdown",
   "metadata": {},
   "source": [
    "### Counting the Number of Distinct Elements\n",
    "\n",
    "\n",
    "Given a stream of data: x1, x2, ..., xN, how many distinct elements are there?\n",
    "\n",
    "If we have sufficient memory to store all elements, this is easy\n"
   ]
  },
  {
   "cell_type": "code",
   "execution_count": 2,
   "metadata": {},
   "outputs": [],
   "source": [
    "def distinct(L):\n",
    "    a = set()\n",
    "    for x in L:\n",
    "        a.add(x)\n",
    "    return len(a)"
   ]
  },
  {
   "cell_type": "code",
   "execution_count": 3,
   "metadata": {},
   "outputs": [
    {
     "name": "stdout",
     "output_type": "stream",
     "text": [
      "4\n"
     ]
    }
   ],
   "source": [
    "print(distinct([1,3,343,3,3,2,1,2]))"
   ]
  },
  {
   "cell_type": "markdown",
   "metadata": {},
   "source": [
    "Can we use a bloom filter?\n",
    "\n",
    "counter = 0\n",
    "For each x, if x is not in B, insert x and counter++.\n",
    "return counter\n",
    "\n",
    "a, b, a, b, a, a.\n",
    "counter = 2.\n",
    "\n",
    "Memory is the size of the Bloom filter.\n",
    "There will be some false positives."
   ]
  },
  {
   "cell_type": "markdown",
   "metadata": {},
   "source": [
    "1. Pick a random hash function: h(x) maps x to y.  They're both 64-bit integers.\n",
    "\n",
    "2. x1, x2, ........\n",
    "\n",
    "3. R = 0.\n",
    "\n",
    "4. For each x, compute y = h(x). Compute Tail(y).  If R < Tail(y), R = Tail(y).\n",
    "\n",
    "5. Return $2^R$\n"
   ]
  },
  {
   "cell_type": "markdown",
   "metadata": {},
   "source": [
    "Tail(y) is the number of trailing 0's of y when it is represented in binary.\n",
    "\n",
    "Example: \n",
    "If h(x) = 7 = 111.  Tail(7) = 0.\n",
    "If h(x) = 12 = 1100.  Tail(12) = 2.\n",
    "If h(x) = 26 = 11010.  Tail(26) = 1.\n",
    "\n",
    "Why is $2^R$ an estimate of the number of distinct items (that we have seen so far in the streaming data)?\n",
    "\n",
    "a, b, a, a, a, b, a, c, c, d, a, a, d\n",
    "\n",
    "What is the probability that h(a) has at least one trailing 0?  Binary rep of h(a) = .....0.  Prob = 1/2\n",
    "\n",
    "What is the probability that h(a) has at least two trailing 0's? Binary rep of h(a) =  ....00.  Prob = 1/4\n",
    "\n",
    "What is the probability that h(a) has at least R trailing 0's?  Binary rep of h(a) = ....00000. Prob = ${1 \\over 2^{R}}$\n",
    "\n",
    "Prob( tail(h(a)) is at least R ) = ${1 \\over 2^{R}}$\n",
    "\n",
    "\n",
    "\n",
    "\n",
    "\n"
   ]
  },
  {
   "cell_type": "markdown",
   "metadata": {},
   "source": [
    "What is the probability that Tail(h(a)) < R? Answer: $(1 - {1 \\over 2^R})$\n"
   ]
  },
  {
   "cell_type": "markdown",
   "metadata": {},
   "source": [
    "Given m distinct items, what is the probability that the tails of all of them are less than R?\n",
    "\n",
    "Answer:   $(1 - {1 \\over 2^R})^m$"
   ]
  },
  {
   "cell_type": "markdown",
   "metadata": {},
   "source": [
    "For very small values of $\\epsilon$, $1-\\epsilon \\approx e^{-\\epsilon}$\n"
   ]
  },
  {
   "cell_type": "markdown",
   "metadata": {},
   "source": [
    "$(1 - {1 \\over 2^R})^m \\approx e^{-m \\over 2^R} = {1 \\over e^{m \\over 2^R}}$"
   ]
  },
  {
   "cell_type": "markdown",
   "metadata": {},
   "source": [
    "When m is much larger than $2^R$, this probability is very small."
   ]
  },
  {
   "cell_type": "markdown",
   "metadata": {},
   "source": [
    "a, b, c, d\n",
    "\n",
    "h is a random hash function, ...00, ...01, ....10, .....11\n",
    "\n",
    "a, b, c, d, e, f, g, h\n",
    "\n",
    "h is a random hash function, ...000, ...001, ....010, .....111\n",
    "\n",
    "\n"
   ]
  },
  {
   "cell_type": "code",
   "execution_count": 4,
   "metadata": {},
   "outputs": [
    {
     "name": "stdout",
     "output_type": "stream",
     "text": [
      "None\n"
     ]
    }
   ],
   "source": [
    "# output: number of trailing zeros of y, represented in binary.\n",
    "def trailing_zeros(y):\n",
    "    # shift right until you get a 1.\n",
    "    pass\n",
    "\n",
    "y = 12\n",
    "print(trailing_zeros(y))"
   ]
  },
  {
   "cell_type": "code",
   "execution_count": 5,
   "metadata": {},
   "outputs": [
    {
     "data": {
      "text/plain": [
       "910"
      ]
     },
     "execution_count": 5,
     "metadata": {},
     "output_type": "execute_result"
    }
   ],
   "source": [
    "10*10 + 9*9*10"
   ]
  },
  {
   "cell_type": "code",
   "execution_count": 6,
   "metadata": {},
   "outputs": [
    {
     "data": {
      "text/plain": [
       "8110"
      ]
     },
     "execution_count": 6,
     "metadata": {},
     "output_type": "execute_result"
    }
   ],
   "source": [
    "90*90 + 1*1*10"
   ]
  },
  {
   "cell_type": "code",
   "execution_count": null,
   "metadata": {},
   "outputs": [],
   "source": [
    "q"
   ]
  }
 ],
 "metadata": {
  "kernelspec": {
   "display_name": "Python [conda env:anaconda]",
   "language": "python",
   "name": "conda-env-anaconda-py"
  },
  "language_info": {
   "codemirror_mode": {
    "name": "ipython",
    "version": 3
   },
   "file_extension": ".py",
   "mimetype": "text/x-python",
   "name": "python",
   "nbconvert_exporter": "python",
   "pygments_lexer": "ipython3",
   "version": "3.6.4"
  }
 },
 "nbformat": 4,
 "nbformat_minor": 2
}
