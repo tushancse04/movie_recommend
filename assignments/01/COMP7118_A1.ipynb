{
 "cells": [
  {
   "cell_type": "markdown",
   "metadata": {},
   "source": [
    "COMP 7118.  Assignment 1\n",
    "\n",
    "Due: 09/13/2018\n",
    "\n",
    "A DNA A DNA sequence is a string consisting of only A or C or G or T.  For example, AACGATAC is a DNA sequence.\n",
    "\n",
    "(1) Implement a Python function to generate all k-shingles of a DNA sequence.  Shingles are discussed in Section 3.2 of the text book.  The API should look like this.\n",
    "\n"
   ]
  },
  {
   "cell_type": "code",
   "execution_count": 1,
   "metadata": {},
   "outputs": [],
   "source": [
    "def dna_shingle(dna, k):\n",
    "    shingles = []\n",
    "    for i in range(len(dna)-k+1):\n",
    "        shingles.append(dna[i:i+k])\n",
    "    shingles = list(set(shingles))\n",
    "    return shingles\n"
   ]
  },
  {
   "cell_type": "markdown",
   "metadata": {},
   "source": [
    "(2) Implement a Python function that convert a k-shingle to a number.  To do this, think of A as 0, C as 1, G as 2, and T as 3.  A k-shingle can be though of as a number base 4.  For example, AAAA has decimal value 0; AACC has decimal value 4*1+1 = 5; ACGT has decimal value 16*1+4*2+3 = 27.  \n",
    "\n",
    "\n",
    "Here's the API:"
   ]
  },
  {
   "cell_type": "code",
   "execution_count": 2,
   "metadata": {},
   "outputs": [],
   "source": [
    "def shingle2decimal(shingle):\n",
    "    d = 0\n",
    "    cmap = {}\n",
    "    cmap['A'] = 0\n",
    "    cmap['C'] = 1\n",
    "    cmap['G'] = 2\n",
    "    cmap['T'] = 3\n",
    "    for i in range(len(shingle)):\n",
    "        d = d*4 + cmap[shingle[i]]\n",
    "    return d"
   ]
  },
  {
   "cell_type": "markdown",
   "metadata": {},
   "source": [
    "(3) Implement a Python function that returns a vector representation of a DNA string.  To do this, first get all k-shingles of the string.  Each shingle represents a number in a vector space, which as 4^k dimensions.  For example, given k=4, the string AAAAC can be represented by the vector [1, 1, 0, 0, ....]  This vector space has 4 * 4 * 4 * 4 = 256 dimensions.\n",
    "\n"
   ]
  },
  {
   "cell_type": "code",
   "execution_count": 11,
   "metadata": {},
   "outputs": [],
   "source": [
    "def get_vector(dna,k):\n",
    "    ss = dna_shingle(dna,k)\n",
    "    v = [0]*(4**k)\n",
    "    for s in ss:\n",
    "        val = shingle2decimal(s)\n",
    "        v[val] = 1\n",
    "    return v"
   ]
  },
  {
   "cell_type": "markdown",
   "metadata": {},
   "source": [
    "(4) Implement a Python function that returns the min hash of a dna string. The input consists of a permutation, a dna string, and k. The input k represents that length of each shingle. \n",
    "\n",
    "Here's the API:"
   ]
  },
  {
   "cell_type": "code",
   "execution_count": 13,
   "metadata": {},
   "outputs": [],
   "source": [
    "def minhash_dna(permutation, dna, k):\n",
    "    v = get_vector(dna,k)\n",
    "    for i in range(len(permutation)):\n",
    "        if v[permutation[i]] == 1:\n",
    "            return permutation[i]"
   ]
  },
  {
   "cell_type": "markdown",
   "metadata": {},
   "source": [
    "\n",
    "\n",
    "\n",
    "**How to turn in your assignment**\n",
    "If your name is John Smith, for assignment 1, you should turn in a zipped folder named: COMP7118_A1_SmithJohn.zip\n",
    "\n",
    "The zipped folder should consist of two things: (1) a jupyter notebook and (2) Python code described in the notebook. You may want to demonstrate the utility call your code in the notebook.\n",
    "\n",
    "\n",
    "**Please read carefully the plagiarism policy described in the syllabus**\n",
    "\n"
   ]
  }
 ],
 "metadata": {
  "kernelspec": {
   "display_name": "Python 3",
   "language": "python",
   "name": "python3"
  },
  "language_info": {
   "codemirror_mode": {
    "name": "ipython",
    "version": 3
   },
   "file_extension": ".py",
   "mimetype": "text/x-python",
   "name": "python",
   "nbconvert_exporter": "python",
   "pygments_lexer": "ipython3",
   "version": "3.6.5"
  }
 },
 "nbformat": 4,
 "nbformat_minor": 2
}
