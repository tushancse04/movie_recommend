{
 "cells": [
  {
   "cell_type": "markdown",
   "metadata": {},
   "source": [
    "# COMP 7118 Assignment 4\n",
    "## Due date: 10/18/2018\n",
    "\n"
   ]
  },
  {
   "cell_type": "markdown",
   "metadata": {},
   "source": [
    "The dataset used for this assignment (ml-latest-small) describes 5-star rating and free-text tagging activity from, a movie recommendation service. It contains 100836 ratings and 3683 tag applications across 9742 movies. These data were created by 610 users between March 29, 1996 and September 24, 2018. This dataset was generated on September 26, 2018.\n",
    "\n",
    "You should explore and understand the movie datasets (ml-latest-small).  Start with the README.txt file.  Then, browse through the dataset to understand what kind of information it has.\n"
   ]
  },
  {
   "cell_type": "markdown",
   "metadata": {},
   "source": [
    "The main goal is to (1) group users into similar groups, and (2) to group movies into similar groups.  To accomplish this, you will have to define what it means for two users to be similar, and what it means for two movies to be similar.  You will need to process the raw data to create a user-similiarity matrix, and a movie-similarity matrix.   Once this is done, you can use clustering algorithms to group users, and movies, respectively.\n",
    "\n",
    "Having clusters of users with same tastes in movies gives raise to many interesting applications.\n",
    "\n",
    "Your code should be in a separate Python file.  You can include in your Jupyter notebook code that shows how your implementations work, but the actual implementations should be in a separated Python file.\n",
    "\n",
    "This problem should requires thoughtful thinking and execution.  Not everything is spelled out explicitly."
   ]
  },
  {
   "cell_type": "markdown",
   "metadata": {},
   "source": [
    "## Problem 1\n",
    "Create a class UserMatrix, which has a method called **similarity**, which returns the similarity between two users.  The interface might look like this:\n",
    "\n",
    "```\n",
    "m = UserMatrix(....)\n",
    "print('Similarity between users 1 and 2 is: ', m.similarity(1,2))\n",
    "```\n",
    "\n",
    "There are a number of things you will have to do to be able to implement this method, including reading the data, creating user profiles.\n",
    "\n",
    "To measure similarity between two user profiles, you might use **cosine similarity** between two user profile vectors.  Specifically, given two user profiles **u** and **v**, where cosine(u,v) = ${u * v \\over |u| |v|}$\n",
    "\n",
    "- $u*v$ is the dot product between two vectors u and v.\n",
    "- |u| is the length of the vector u.\n",
    "\n",
    "The vector $u=(u_1, u_2, \\cdots, u_n)$ can be a rating profile of a particular user, where $u_1$ is the user's rating of movie 1.\n",
    "\n",
    "### Evaluation\n",
    "- You must explain in English your implementations in ways that readers (e.g. the TA) can understand the ideas without having to read your code.  \n",
    "\n",
    "- Additionally, you should include Python examples that (1) shows how to use your code and (2) uses specific users to show your code makes sense.\n",
    "\n",
    "- Grading is based on: (1) whether or not your code runs; (2) how clear and understandable is your explanation of your ideas and implementation; you should choose examples wisely to demonstrate the utility, correctness or sensibility of your implementation; and (3) whether your explanation actually reflects what you implement.\n",
    "\n"
   ]
  },
  {
   "cell_type": "markdown",
   "metadata": {},
   "source": [
    "## Problem 2\n",
    "Create a class Movie, which has a method called **similarity**, which returns the similarity between two movies.  The interface might look like this:\n",
    "\n",
    "```\n",
    "m = MovieMatrix(....)\n",
    "print('Similarity between movies 1 and 2 is: ', m.similarity(1,2))\n",
    "```\n",
    "\n",
    "To get full credits for this problem, you must explain in English how this is done.  Readers (e.g. the TA) do not have to read your Python implementation in order to understand broadly what you do.  Additionally, you should include Python examples that (1) shows how to use your code and (2) uses specific users to show your code makes sense.\n",
    "\n",
    "To measure similarity between two movies profiles, you might use **cosine similarity** between two movie profile vectors. Each movies profile vector is a binary (0/1) vector $(u_1, \\cdots, u_m)$, where $u_1$ is 1 if the movie belong to category 1.  Note that each movie generally belongs to multiple categories.\n",
    " \n",
    "### Evaluation\n",
    "- You must explain in English your implementations in ways that readers (e.g. the TA) can understand the ideas without having to read your code.  \n",
    "\n",
    "- Additionally, you should include Python examples that (1) shows how to use your code and (2) uses specific users to show your code makes sense.\n",
    "\n",
    "- Grading is based on: (1) whether or not your code runs; (2) how clear and understandable is your explanation of your ideas and implementation; you should choose examples wisely to demonstrate the utility, correctness or sensibility of your implementation; and (3) whether your explanation actually reflects what you implement.\n",
    "\n",
    "\n"
   ]
  },
  {
   "cell_type": "markdown",
   "metadata": {},
   "source": [
    "\n",
    "## Problem 3\n",
    "\n",
    "Use K-means to group users into similar groups. You do not need to explain how it works, but you have to include code that implements the algorithm.  \n",
    "\n",
    "For each clsuter, compute and show average distance between each point to the centroid.\n",
    "\n",
    "Compute and show the distances between the centroids, as well as the average distance between the centroids.\n",
    "\n",
    "### Evaluation\n",
    "- You should include Python examples that (1) shows how to use your code and (2) uses specific users to show your code makes sense.\n",
    "\n"
   ]
  },
  {
   "cell_type": "markdown",
   "metadata": {},
   "source": [
    "## Problem 4 (bonus)\n",
    "\n",
    "Visualize the clusters produced by your algorithms.  Use seaborn to create a heatmap of each cluster.  The x-axis might represent the movies; the y-axis might represent the users.  For each cluster, "
   ]
  },
  {
   "cell_type": "code",
   "execution_count": null,
   "metadata": {},
   "outputs": [],
   "source": []
  }
 ],
 "metadata": {
  "kernelspec": {
   "display_name": "Python 3",
   "language": "python",
   "name": "python3"
  },
  "language_info": {
   "codemirror_mode": {
    "name": "ipython",
    "version": 3
   },
   "file_extension": ".py",
   "mimetype": "text/x-python",
   "name": "python",
   "nbconvert_exporter": "python",
   "pygments_lexer": "ipython3",
   "version": "3.6.5"
  }
 },
 "nbformat": 4,
 "nbformat_minor": 2
}
