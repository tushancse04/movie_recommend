{
 "cells": [
  {
   "cell_type": "markdown",
   "metadata": {},
   "source": [
    "# COMP 7118 Assignment 4\n",
    "## Due date: 10/18/2018\n",
    "\n"
   ]
  },
  {
   "cell_type": "markdown",
   "metadata": {},
   "source": [
    "The dataset used for this assignment (ml-latest-small) describes 5-star rating and free-text tagging activity from, a movie recommendation service. It contains 100836 ratings and 3683 tag applications across 9742 movies. These data were created by 610 users between March 29, 1996 and September 24, 2018. This dataset was generated on September 26, 2018.\n",
    "\n",
    "You should explore and understand the movie datasets (ml-latest-small).  Start with the README.txt file.  Then, browse through the dataset to understand what kind of information it has.\n"
   ]
  },
  {
   "cell_type": "markdown",
   "metadata": {},
   "source": [
    "The main goal is to (1) group users into similar groups, and (2) to group movies into similar groups.  To accomplish this, you will have to define what it means for two users to be similar, and what it means for two movies to be similar.  You will need to process the raw data to create a user-similiarity matrix, and a movie-similarity matrix.   Once this is done, you can use clustering algorithms to group users, and movies, respectively.\n",
    "\n",
    "Having clusters of users with same tastes in movies gives raise to many interesting applications.\n",
    "\n",
    "Your code should be in a separate Python file.  You can include in your Jupyter notebook code that shows how your implementations work, but the actual implementations should be in a separated Python file.\n",
    "\n",
    "This problem should requires thoughtful thinking and execution.  Not everything is spelled out explicitly."
   ]
  },
  {
   "cell_type": "markdown",
   "metadata": {},
   "source": [
    "## Problem 1\n",
    "Create a class UserMatrix, which has a method called **similarity**, which returns the similarity between two users.  The interface might look like this:\n",
    "\n",
    "```\n",
    "m = UserMatrix(....)\n",
    "print('Similarity between users 1 and 2 is: ', m.similarity(1,2))\n",
    "```\n",
    "\n",
    "There are a number of things you will have to do to be able to implement this method, including reading the data, creating user profiles.\n",
    "\n",
    "To measure similarity between two user profiles, you might use **cosine similarity** between two user profile vectors.  Specifically, given two user profiles **u** and **v**, where cosine(u,v) = ${u * v \\over |u| |v|}$\n",
    "\n",
    "- $u*v$ is the dot product between two vectors u and v.\n",
    "- |u| is the length of the vector u.\n",
    "\n",
    "The vector $u=(u_1, u_2, \\cdots, u_n)$ can be a rating profile of a particular user, where $u_1$ is the user's rating of movie 1.\n",
    "\n",
    "### Evaluation\n",
    "- You must explain in English your implementations in ways that readers (e.g. the TA) can understand the ideas without having to read your code.  \n",
    "\n",
    "- Additionally, you should include Python examples that (1) shows how to use your code and (2) uses specific users to show your code makes sense.\n",
    "\n",
    "- Grading is based on: (1) whether or not your code runs; (2) how clear and understandable is your explanation of your ideas and implementation; you should choose examples wisely to demonstrate the utility, correctness or sensibility of your implementation; and (3) whether your explanation actually reflects what you implement.\n",
    "\n"
   ]
  },
  {
   "cell_type": "markdown",
   "metadata": {},
   "source": [
    "A user rated for several movies. I rounded up the ratings to six categories - 0,1..5. If a user rated mostly 5 stars, it's probable that he has similarity with another user who mostly rated 5 stars as well. Hence, I created a matrix consisting six columns which represents how many 1*,2*,...5* rated that user for different movies. Additionally, users tagged different movies by different words. If two users tagged a movie with similar words, there is a chance that similarity exists beween those two users. Hence I created another binary matrx which represents which words the user tagged and I multiplied by average rating of a certain user to the binary matrix of that user to ensure that both the matrix carries same weight in determining cosine similarity. I then merge both matrix which results a new matrix that carries the effect of tagging and rating. Also, there is a timestamp in ratings.csv. An old user might have similarity with another old user. So, I divided the timestamps into six categories and created another matrix like the tagging matrix and merged again to get the final matrix.\n",
    "\n",
    "Finally, I calculated cosine similarity between two users from their matrix."
   ]
  },
  {
   "cell_type": "code",
   "execution_count": 1,
   "metadata": {},
   "outputs": [
    {
     "data": {
      "text/plain": [
       "0.4600620081207666"
      ]
     },
     "execution_count": 1,
     "metadata": {},
     "output_type": "execute_result"
    }
   ],
   "source": [
    "from UserMatrix import UserMatrix\n",
    "um = UserMatrix()\n",
    "um.similarity(3,10)"
   ]
  },
  {
   "cell_type": "markdown",
   "metadata": {},
   "source": [
    "## Problem 2\n",
    "Create a class Movie, which has a method called **similarity**, which returns the similarity between two movies.  The interface might look like this:\n",
    "\n",
    "```\n",
    "m = MovieMatrix(....)\n",
    "print('Similarity between movies 1 and 2 is: ', m.similarity(1,2))\n",
    "```\n",
    "\n",
    "To get full credits for this problem, you must explain in English how this is done.  Readers (e.g. the TA) do not have to read your Python implementation in order to understand broadly what you do.  Additionally, you should include Python examples that (1) shows how to use your code and (2) uses specific users to show your code makes sense.\n",
    "\n",
    "To measure similarity between two movies profiles, you might use **cosine similarity** between two movie profile vectors. Each movies profile vector is a binary (0/1) vector $(u_1, \\cdots, u_m)$, where $u_1$ is 1 if the movie belong to category 1.  Note that each movie generally belongs to multiple categories.\n",
    " \n",
    "### Evaluation\n",
    "- You must explain in English your implementations in ways that readers (e.g. the TA) can understand the ideas without having to read your code.  \n",
    "\n",
    "- Additionally, you should include Python examples that (1) shows how to use your code and (2) uses specific users to show your code makes sense.\n",
    "\n",
    "- Grading is based on: (1) whether or not your code runs; (2) how clear and understandable is your explanation of your ideas and implementation; you should choose examples wisely to demonstrate the utility, correctness or sensibility of your implementation; and (3) whether your explanation actually reflects what you implement.\n",
    "\n",
    "\n"
   ]
  },
  {
   "cell_type": "markdown",
   "metadata": {},
   "source": [
    "Each movie has certain genres and movies having similar genres are supposed to have similarity. There are total 20 genres for the movies. So, I created a binary matrix having 20 columns which represents whether a movie is of a certain genre or not. On the other hand, each movie is tagged by different words and if two movies are tagged with similar words, they may have similarity. Hence, I created another matrix where columns represents the frequent tagged words. If a certain movie is tagged with a frequent word, the column representing that column is set to 1. So, I got another binary matrix and concatenated with the first matrix which results a new matrix carrying the effect of genres and tagging. Also, each movie was made on a certain year. Old movies are supposed to have similarity which is true for new movies as well. Hence, I categorized the year to six categories and created another binary matrix having six columns and column representing the year of the movie is marked to 1. Additionally, movies having similar average rating are supposed to have similarity as well. Hence, I categorized average rating to six categories and created another binary matrix and concatenated all binary matrices to get the final matrix.\n",
    "Then, I calculated cosine similarity beween two movies from their respective matrices."
   ]
  },
  {
   "cell_type": "code",
   "execution_count": 2,
   "metadata": {},
   "outputs": [
    {
     "data": {
      "text/plain": [
       "0.5773502691896258"
      ]
     },
     "execution_count": 2,
     "metadata": {},
     "output_type": "execute_result"
    }
   ],
   "source": [
    "from MovieMatrix import MovieMatrix\n",
    "mm = MovieMatrix()\n",
    "mm.similarity(170907,174479)"
   ]
  },
  {
   "cell_type": "markdown",
   "metadata": {},
   "source": [
    "\n",
    "## Problem 3\n",
    "\n",
    "Use K-means to group users into similar groups. You do not need to explain how it works, but you have to include code that implements the algorithm.  \n",
    "\n",
    "For each clsuter, compute and show average distance between each point to the centroid.\n",
    "\n",
    "Compute and show the distances between the centroids, as well as the average distance between the centroids.\n",
    "\n",
    "### Evaluation\n",
    "- You should include Python examples that (1) shows how to use your code and (2) uses specific users to show your code makes sense.\n",
    "\n"
   ]
  },
  {
   "cell_type": "code",
   "execution_count": 3,
   "metadata": {},
   "outputs": [
    {
     "name": "stdout",
     "output_type": "stream",
     "text": [
      "average distance among points and :  0 th cluster's centroid :  0.0\n",
      "average distance among points and :  1 th cluster's centroid :  797.3222438464181\n",
      "average distance among points and :  2 th cluster's centroid :  0.0\n",
      "average distance among points and :  3 th cluster's centroid :  12986.553234219498\n",
      "average distance among points and :  4 th cluster's centroid :  0.0\n",
      "average distance among points and :  5 th cluster's centroid :  23891.115004709554\n",
      "average distance among points and :  6 th cluster's centroid :  121640.36349762109\n",
      "average distance among points and :  7 th cluster's centroid :  9911.930813022796\n",
      "average distance among points and :  8 th cluster's centroid :  39064.28929284582\n",
      "average distance among points and :  9 th cluster's centroid :  4703.209875664746\n",
      "----------------------------------------------------------------------------\n",
      "Distance between  0 th and  1 th centroid :  611867.9590241\n",
      "Distance between  0 th and  2 th centroid :  331157.3891748622\n",
      "Distance between  0 th and  3 th centroid :  588390.2255824797\n",
      "Distance between  0 th and  4 th centroid :  542769.4119992394\n",
      "Distance between  0 th and  5 th centroid :  555207.9995430772\n",
      "Distance between  0 th and  6 th centroid :  474617.70542458683\n",
      "Distance between  0 th and  7 th centroid :  596612.2004827418\n",
      "Distance between  0 th and  8 th centroid :  541385.275269035\n",
      "Distance between  0 th and  9 th centroid :  607310.4070739382\n",
      "Distance between  1 th and  2 th centroid :  306060.57403268124\n",
      "Distance between  1 th and  3 th centroid :  44322.5176775455\n",
      "Distance between  1 th and  4 th centroid :  131301.63386443726\n",
      "Distance between  1 th and  5 th centroid :  70064.30773454886\n",
      "Distance between  1 th and  6 th centroid :  577363.5360129519\n",
      "Distance between  1 th and  7 th centroid :  22058.234553469192\n",
      "Distance between  1 th and  8 th centroid :  138488.76201409815\n",
      "Distance between  1 th and  9 th centroid :  7471.065446421849\n",
      "Distance between  2 th and  3 th centroid :  273936.09067670273\n",
      "Distance between  2 th and  4 th centroid :  218583.3120523563\n",
      "Distance between  2 th and  5 th centroid :  240158.89202024345\n",
      "Distance between  2 th and  6 th centroid :  351882.3203374321\n",
      "Distance between  2 th and  7 th centroid :  287037.26043110277\n",
      "Distance between  2 th and  8 th centroid :  215252.58435567174\n",
      "Distance between  2 th and  9 th centroid :  300068.8947349462\n",
      "Distance between  3 th and  4 th centroid :  96077.67488618115\n",
      "Distance between  3 th and  5 th centroid :  34722.318028130794\n",
      "Distance between  3 th and  6 th centroid :  533835.6816164778\n",
      "Distance between  3 th and  7 th centroid :  23160.31778441611\n",
      "Distance between  3 th and  8 th centroid :  94432.14602684384\n",
      "Distance between  3 th and  9 th centroid :  37040.99729159021\n",
      "Distance between  4 th and  5 th centroid :  76511.77192381452\n",
      "Distance between  4 th and  6 th centroid :  464661.29600333574\n",
      "Distance between  4 th and  7 th centroid :  112014.99735421606\n",
      "Distance between  4 th and  8 th centroid :  77830.9317195756\n",
      "Distance between  4 th and  9 th centroid :  124413.30546175501\n",
      "Distance between  5 th and  6 th centroid :  509846.46461141703\n",
      "Distance between  5 th and  7 th centroid :  48806.50546226553\n",
      "Distance between  5 th and  8 th centroid :  78359.81185810294\n",
      "Distance between  5 th and  9 th centroid :  63133.61962177331\n",
      "Distance between  6 th and  7 th centroid :  555322.4080911874\n",
      "Distance between  6 th and  8 th centroid :  440940.138475534\n",
      "Distance between  6 th and  9 th centroid :  570067.3450701684\n",
      "Distance between  7 th and  8 th centroid :  116851.93039720785\n",
      "Distance between  7 th and  9 th centroid :  14822.049649688435\n",
      "Distance between  8 th and  9 th centroid :  131288.5771716245\n",
      "---------------------------------------------------------------------------\n",
      "Average distance between centroids :  271944.64106719947\n"
     ]
    }
   ],
   "source": [
    "um.cluster(10)"
   ]
  },
  {
   "cell_type": "markdown",
   "metadata": {},
   "source": [
    "## Problem 4 (bonus)\n",
    "\n",
    "Visualize the clusters produced by your algorithms.  Use seaborn to create a heatmap of each cluster.  The x-axis might represent the movies; the y-axis might represent the users.  For each cluster, "
   ]
  }
 ],
 "metadata": {
  "kernelspec": {
   "display_name": "Python 3",
   "language": "python",
   "name": "python3"
  },
  "language_info": {
   "codemirror_mode": {
    "name": "ipython",
    "version": 3
   },
   "file_extension": ".py",
   "mimetype": "text/x-python",
   "name": "python",
   "nbconvert_exporter": "python",
   "pygments_lexer": "ipython3",
   "version": "3.6.5"
  }
 },
 "nbformat": 4,
 "nbformat_minor": 2
}
