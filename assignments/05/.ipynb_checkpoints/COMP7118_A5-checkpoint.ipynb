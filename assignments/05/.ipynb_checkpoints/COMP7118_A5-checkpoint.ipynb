{
 "cells": [
  {
   "cell_type": "markdown",
   "metadata": {},
   "source": [
    "# COMP 7118 Assignment 5\n",
    "## Due date: 11/15/2018\n",
    "\n"
   ]
  },
  {
   "cell_type": "raw",
   "metadata": {},
   "source": [
    "Create a Dash app, called Seven Questions.  Basically, this app asks a user seven sequential questions.  In each question, a user is asked to rate a movie.  The answer to each question should be used to determined the next movie.\n"
   ]
  },
  {
   "cell_type": "markdown",
   "metadata": {},
   "source": [
    "1. (40 points)  Create a Python function that appends a new entry to the table \"rating\" (ratings.csv) in the Movie Lens dataset.  This table has 4 columns: userId, movieId, rating, and timestamp. You should use Pandas to do this.\n"
   ]
  },
  {
   "cell_type": "markdown",
   "metadata": {},
   "source": [
    "2. (30 points) Create a Dash app that shows a random movie to a user and asks him/her to rate it."
   ]
  },
  {
   "cell_type": "markdown",
   "metadata": {},
   "source": [
    "3. (30 points) Based on the user's rating to already-asked questions, find another user, say John, with similar profile, pick a movie that John likes and the user hasn't seen yet.  Recommend that movie."
   ]
  }
 ],
 "metadata": {
  "kernelspec": {
   "display_name": "Python 3",
   "language": "python",
   "name": "python3"
  },
  "language_info": {
   "codemirror_mode": {
    "name": "ipython",
    "version": 3
   },
   "file_extension": ".py",
   "mimetype": "text/x-python",
   "name": "python",
   "nbconvert_exporter": "python",
   "pygments_lexer": "ipython3",
   "version": "3.6.5"
  }
 },
 "nbformat": 4,
 "nbformat_minor": 2
}
