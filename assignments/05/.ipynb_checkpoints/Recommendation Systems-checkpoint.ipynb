{
 "cells": [
  {
   "cell_type": "markdown",
   "metadata": {},
   "source": [
    "# Chapter 9: Recommendation Systems"
   ]
  },
  {
   "cell_type": "markdown",
   "metadata": {},
   "source": [
    "# Content Based Recommendation"
   ]
  },
  {
   "cell_type": "markdown",
   "metadata": {},
   "source": [
    "Content-based recommendation is about recommending products based on content similarity.\n",
    "\n",
    "\n",
    "## Utility matrix.   \n",
    "\n",
    "What's a utility matrix?  This matrix has usage/rating information of users and products/items.\n",
    "\n",
    "From a utility matrix, we need to construct a user profile (or user-feature matrix) and item profile (or item-feature matrix).\n",
    "\n",
    "Then, we can recommend movies based on similarity among movies.\n",
    "\n"
   ]
  },
  {
   "cell_type": "code",
   "execution_count": 8,
   "metadata": {},
   "outputs": [
    {
     "name": "stdout",
     "output_type": "stream",
     "text": [
      "UserFeature\n",
      "                     J.Roberts        T.Hanks        TheRock       Thriller         Action         RomCom\n",
      "Mary                  5.0\t       4.0\t       1.0\t       0.0\t       0.0\t       4.0\t\n",
      "Tom                   3.0\t       4.0\t       0.0\t       0.0\t       0.0\t       5.0\t\n",
      "Jerry                 1.0\t       1.0\t       5.0\t       4.0\t       5.0\t       2.0\t\n",
      "\n",
      "ItemFeature\n",
      "                     J.Roberts        T.Hanks        TheRock       Thriller         Action         RomCom\n",
      "LarryCrowne           1.0\t       1.0\t       0.0\t       0.0\t       0.0\t       1.0\t\n",
      "PrettyWoman           1.0\t       0.0\t       0.0\t       0.0\t       0.0\t       1.0\t\n",
      "Sully                 0.0\t       1.0\t       0.0\t       1.0\t       1.0\t       0.0\t\n",
      "Hercules              0.0\t       0.0\t       1.0\t       1.0\t       1.0\t       0.0\t\n",
      "\n"
     ]
    }
   ],
   "source": [
    "from matrix import Matrix\n",
    "import numpy\n",
    "\n",
    "UF = Matrix(\n",
    "    'UserFeature',\n",
    "    ['Mary', 'Tom', 'Jerry'],\n",
    "    ['J.Roberts', 'T.Hanks', 'TheRock', 'Thriller', 'Action', 'RomCom']\n",
    ")\n",
    "\n",
    "## User profile (user-feature matrix)\n",
    "UF.set(0, [5,4,1,0,0,4])\n",
    "UF.set(1, [3,4,0,0,0,5])\n",
    "UF.set(2, [1,1,5,4,5,2])\n",
    "\n",
    "UF.show()\n",
    "\n",
    "\n",
    "## Item profile (item-feature matrix)\n",
    "IF = Matrix(\n",
    "    'ItemFeature',\n",
    "    ['LarryCrowne', 'PrettyWoman', 'Sully', 'Hercules'],\n",
    "    ['J.Roberts', 'T.Hanks', 'TheRock', 'Thriller', 'Action', 'RomCom']\n",
    ")\n",
    "IF.set(0, [1,1,0,0,0,1])\n",
    "IF.set(1, [1,0,0,0,0,1])\n",
    "IF.set(2, [0,1,0,1,1,0])\n",
    "IF.set(3, [0,0,1,1,1,0])\n",
    "\n",
    "IF.show()"
   ]
  },
  {
   "cell_type": "markdown",
   "metadata": {},
   "source": [
    "From user profiles and item profiles, we can create a user-item matrix.  This is not the utility matrix.  This is the product of UF and the transpose of IF.\n",
    "\n",
    "UI = UF * IF^t\n",
    "\n",
    "\n",
    "\n"
   ]
  },
  {
   "cell_type": "code",
   "execution_count": 12,
   "metadata": {},
   "outputs": [
    {
     "name": "stdout",
     "output_type": "stream",
     "text": [
      "UF\n",
      " [[5. 4. 1. 0. 0. 4.]\n",
      " [3. 4. 0. 0. 0. 5.]\n",
      " [1. 1. 5. 4. 5. 2.]]\n",
      "IF.transpose\n",
      " [[1. 1. 0. 0.]\n",
      " [1. 0. 1. 0.]\n",
      " [0. 0. 0. 1.]\n",
      " [0. 0. 1. 1.]\n",
      " [0. 0. 1. 1.]\n",
      " [1. 1. 0. 0.]]\n"
     ]
    }
   ],
   "source": [
    "print('UF (3x6)\\n', UF.mat)\n",
    "\n",
    "print('IF.transpose (6x4)\\n', IF.mat.transpose())"
   ]
  },
  {
   "cell_type": "markdown",
   "metadata": {},
   "source": [
    "UI = (UF * IF.transpose), is a 3x4 matrix.  3 users and 4 movies.\n",
    "\n",
    "UI[0][0] is what?  The value related Mary (user) and LarryCrowne (item).\n",
    "\n",
    "UI[0][0] = (5,4,1,0,0,4) * (1,1,0,0,0,1)\n",
    "\n"
   ]
  },
  {
   "cell_type": "code",
   "execution_count": 17,
   "metadata": {},
   "outputs": [
    {
     "name": "stdout",
     "output_type": "stream",
     "text": [
      "UserItem\n",
      "                   LarryCrowne    PrettyWoman          Sully       Hercules\n",
      "Mary                 13.0\t       9.0\t       4.0\t       1.0\t\n",
      "Tom                  12.0\t       8.0\t       4.0\t       0.0\t\n",
      "Jerry                 4.0\t       3.0\t      10.0\t      14.0\t\n",
      "\n"
     ]
    }
   ],
   "source": [
    "ui = UF.mat.dot( IF.mat.transpose() )\n",
    "UI = Matrix(\n",
    "    'UserItem',\n",
    "    ['Mary', 'Tom', 'Jerry'],\n",
    "    ['LarryCrowne', 'PrettyWoman', 'Sully', 'Hercules']\n",
    ")\n",
    "UI.set(0, ui[0])\n",
    "UI.set(1, ui[1])\n",
    "UI.set(2, ui[2])\n",
    "UI.show()"
   ]
  },
  {
   "cell_type": "markdown",
   "metadata": {},
   "source": [
    "To recommend an item to a user, get all items that a user hasn't rated.  Sort them by the \"scores\" from largest to smallest.  Now you can recommend.\n"
   ]
  },
  {
   "cell_type": "markdown",
   "metadata": {},
   "source": [
    "# Collaborative Filtering"
   ]
  },
  {
   "cell_type": "markdown",
   "metadata": {},
   "source": [
    "Collaborative filtering is about recommending products based on similarity of users' preference.  \n",
    "\n",
    "We look at similaritites between user profiles and recommend based on the similarities.\n",
    "\n",
    "We can use the UserItem matrix.\n",
    "    - Use the utility matrix itself  (this has user ratings for items)\n",
    "    - Use the UI matrix, which is the product of user-feature and item-feature.\n",
    "    \n",
    "\n",
    "\n"
   ]
  },
  {
   "cell_type": "markdown",
   "metadata": {},
   "source": [
    "# Recommendation Strategies\n"
   ]
  },
  {
   "cell_type": "markdown",
   "metadata": {},
   "source": [
    "Find n users with most similar (user) profiles to a person x, and recommend items that x has not had.  Especially, items that are consistently rated high by these n users.\n",
    "\n",
    "Find n items with most similar (item) profiles to items highly rated by a person x, and recommend those.\n",
    "\n",
    "Cluster users and items to reduce dimensions.  Apply content-based or collaborative filtering within each cluster.\n"
   ]
  },
  {
   "cell_type": "code",
   "execution_count": null,
   "metadata": {},
   "outputs": [],
   "source": []
  }
 ],
 "metadata": {
  "kernelspec": {
   "display_name": "Python 3",
   "language": "python",
   "name": "python3"
  },
  "language_info": {
   "codemirror_mode": {
    "name": "ipython",
    "version": 3
   },
   "file_extension": ".py",
   "mimetype": "text/x-python",
   "name": "python",
   "nbconvert_exporter": "python",
   "pygments_lexer": "ipython3",
   "version": "3.6.5"
  }
 },
 "nbformat": 4,
 "nbformat_minor": 2
}
